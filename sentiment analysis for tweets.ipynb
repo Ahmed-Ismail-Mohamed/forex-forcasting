{
 "cells": [
  {
   "cell_type": "code",
   "execution_count": 1,
   "metadata": {
    "_cell_guid": "b1076dfc-b9ad-4769-8c92-a6c4dae69d19",
    "_uuid": "8f2839f25d086af736a60e9eeb907d3b93b6e0e5",
    "execution": {
     "iopub.execute_input": "2021-06-07T15:59:16.036959Z",
     "iopub.status.busy": "2021-06-07T15:59:16.036584Z",
     "iopub.status.idle": "2021-06-07T15:59:17.765977Z",
     "shell.execute_reply": "2021-06-07T15:59:17.764483Z",
     "shell.execute_reply.started": "2021-06-07T15:59:16.036880Z"
    }
   },
   "outputs": [],
   "source": [
    "import pandas as pd\n",
    "import numpy as np\n",
    "import re\n",
    "\n",
    "from sklearn.model_selection import train_test_split\n",
    "from sklearn.feature_extraction.text import TfidfVectorizer\n",
    "from sklearn.metrics import precision_score, recall_score, accuracy_score\n",
    "from sklearn.ensemble import RandomForestClassifier\n",
    "from tashaphyne import normalize\n",
    "from collections import Counter\n",
    "\n",
    "from nltk.stem.isri import ISRIStemmer\n",
    "st = ISRIStemmer()"
   ]
  },
  {
   "cell_type": "code",
   "execution_count": 2,
   "metadata": {},
   "outputs": [
    {
     "data": {
      "text/plain": [
       "'لقد يخسر الشركه'"
      ]
     },
     "execution_count": 2,
     "metadata": {},
     "output_type": "execute_result"
    }
   ],
   "source": [
    "normalize.normalize_searchtext('لقد يخسر الشركــــــــة')"
   ]
  },
  {
   "cell_type": "code",
   "execution_count": 3,
   "metadata": {},
   "outputs": [
    {
     "name": "stdout",
     "output_type": "stream",
     "text": [
      "خسر\n"
     ]
    }
   ],
   "source": [
    "print(st.stem('يخسر'))"
   ]
  },
  {
   "cell_type": "code",
   "execution_count": 4,
   "metadata": {
    "execution": {
     "iopub.execute_input": "2021-06-07T15:59:17.768919Z",
     "iopub.status.busy": "2021-06-07T15:59:17.768479Z",
     "iopub.status.idle": "2021-06-07T15:59:18.063061Z",
     "shell.execute_reply": "2021-06-07T15:59:18.062362Z",
     "shell.execute_reply.started": "2021-06-07T15:59:17.768874Z"
    }
   },
   "outputs": [],
   "source": [
    "df = pd.read_excel('polarity.xlsx')"
   ]
  },
  {
   "cell_type": "code",
   "execution_count": 5,
   "metadata": {},
   "outputs": [
    {
     "data": {
      "text/html": [
       "<div>\n",
       "<style scoped>\n",
       "    .dataframe tbody tr th:only-of-type {\n",
       "        vertical-align: middle;\n",
       "    }\n",
       "\n",
       "    .dataframe tbody tr th {\n",
       "        vertical-align: top;\n",
       "    }\n",
       "\n",
       "    .dataframe thead th {\n",
       "        text-align: right;\n",
       "    }\n",
       "</style>\n",
       "<table border=\"1\" class=\"dataframe\">\n",
       "  <thead>\n",
       "    <tr style=\"text-align: right;\">\n",
       "      <th></th>\n",
       "      <th>نص التغريدة</th>\n",
       "      <th>نوع التغريدة</th>\n",
       "      <th>الشركة</th>\n",
       "    </tr>\n",
       "  </thead>\n",
       "  <tbody>\n",
       "    <tr>\n",
       "      <th>0</th>\n",
       "      <td>السهم اغلاقه 32.20 السهم يعتبر فرصة جيد للشراء...</td>\n",
       "      <td>جيد</td>\n",
       "      <td>STC</td>\n",
       "    </tr>\n",
       "    <tr>\n",
       "      <th>1</th>\n",
       "      <td>السهم الان اخترق مستوى المقاومة 76.60 الذي بال...</td>\n",
       "      <td>جيد</td>\n",
       "      <td>STC</td>\n",
       "    </tr>\n",
       "    <tr>\n",
       "      <th>2</th>\n",
       "      <td>السهم انخفض لاختبار مستوى الدعم 57.98 الذي بال...</td>\n",
       "      <td>جيد</td>\n",
       "      <td>STC</td>\n",
       "    </tr>\n",
       "    <tr>\n",
       "      <th>3</th>\n",
       "      <td>يلاحظ بدء ارتفاع ملحوظ في احجام التداول مع تقا...</td>\n",
       "      <td>جيد</td>\n",
       "      <td>STC</td>\n",
       "    </tr>\n",
       "    <tr>\n",
       "      <th>4</th>\n",
       "      <td>سهم #stc يعود فوق مستوى 43 اهداف السهم 44-47-49</td>\n",
       "      <td>جيد</td>\n",
       "      <td>STC</td>\n",
       "    </tr>\n",
       "    <tr>\n",
       "      <th>...</th>\n",
       "      <td>...</td>\n",
       "      <td>...</td>\n",
       "      <td>...</td>\n",
       "    </tr>\n",
       "    <tr>\n",
       "      <th>204</th>\n",
       "      <td>\"بنك الرياض\": المعيار المحاسبي (9) أثر سلبا بـ...</td>\n",
       "      <td>سيء</td>\n",
       "      <td>بنك الرياض</td>\n",
       "    </tr>\n",
       "    <tr>\n",
       "      <th>205</th>\n",
       "      <td>بنك الرياض\" يتوقع انخفاض حقوق المساهمين مابين ...</td>\n",
       "      <td>سيء</td>\n",
       "      <td>بنك الرياض</td>\n",
       "    </tr>\n",
       "    <tr>\n",
       "      <th>206</th>\n",
       "      <td>انخفاض أرباح \"بنك الرياض\" إلى 4715 مليون ريال ...</td>\n",
       "      <td>سيء</td>\n",
       "      <td>بنك الرياض</td>\n",
       "    </tr>\n",
       "    <tr>\n",
       "      <th>207</th>\n",
       "      <td>انخفاض أرباح \"بنك الرياض\" إلى 3835 مليون ريال ...</td>\n",
       "      <td>سيء</td>\n",
       "      <td>بنك الرياض</td>\n",
       "    </tr>\n",
       "    <tr>\n",
       "      <th>208</th>\n",
       "      <td>انخفاض أرباح \"بنك الرياض\" إلى 2539 مليون ريال ...</td>\n",
       "      <td>سيء</td>\n",
       "      <td>بنك الرياض</td>\n",
       "    </tr>\n",
       "  </tbody>\n",
       "</table>\n",
       "<p>209 rows × 3 columns</p>\n",
       "</div>"
      ],
      "text/plain": [
       "                                          نص التغريدة  نوع التغريدة  \\\n",
       "0    السهم اغلاقه 32.20 السهم يعتبر فرصة جيد للشراء...          جيد   \n",
       "1    السهم الان اخترق مستوى المقاومة 76.60 الذي بال...          جيد   \n",
       "2    السهم انخفض لاختبار مستوى الدعم 57.98 الذي بال...          جيد   \n",
       "3    يلاحظ بدء ارتفاع ملحوظ في احجام التداول مع تقا...          جيد   \n",
       "4     سهم #stc يعود فوق مستوى 43 اهداف السهم 44-47-49           جيد   \n",
       "..                                                 ...          ...   \n",
       "204  \"بنك الرياض\": المعيار المحاسبي (9) أثر سلبا بـ...          سيء   \n",
       "205  بنك الرياض\" يتوقع انخفاض حقوق المساهمين مابين ...          سيء   \n",
       "206  انخفاض أرباح \"بنك الرياض\" إلى 4715 مليون ريال ...          سيء   \n",
       "207  انخفاض أرباح \"بنك الرياض\" إلى 3835 مليون ريال ...          سيء   \n",
       "208  انخفاض أرباح \"بنك الرياض\" إلى 2539 مليون ريال ...          سيء   \n",
       "\n",
       "         الشركة  \n",
       "0           STC  \n",
       "1           STC  \n",
       "2           STC  \n",
       "3           STC  \n",
       "4           STC  \n",
       "..          ...  \n",
       "204  بنك الرياض  \n",
       "205  بنك الرياض  \n",
       "206  بنك الرياض  \n",
       "207  بنك الرياض  \n",
       "208  بنك الرياض  \n",
       "\n",
       "[209 rows x 3 columns]"
      ]
     },
     "execution_count": 5,
     "metadata": {},
     "output_type": "execute_result"
    }
   ],
   "source": [
    "df"
   ]
  },
  {
   "cell_type": "code",
   "execution_count": 6,
   "metadata": {},
   "outputs": [],
   "source": [
    "df.columns = ['tweet','polarity','company']"
   ]
  },
  {
   "cell_type": "code",
   "execution_count": 7,
   "metadata": {},
   "outputs": [
    {
     "data": {
      "text/html": [
       "<div>\n",
       "<style scoped>\n",
       "    .dataframe tbody tr th:only-of-type {\n",
       "        vertical-align: middle;\n",
       "    }\n",
       "\n",
       "    .dataframe tbody tr th {\n",
       "        vertical-align: top;\n",
       "    }\n",
       "\n",
       "    .dataframe thead th {\n",
       "        text-align: right;\n",
       "    }\n",
       "</style>\n",
       "<table border=\"1\" class=\"dataframe\">\n",
       "  <thead>\n",
       "    <tr style=\"text-align: right;\">\n",
       "      <th></th>\n",
       "      <th>tweet</th>\n",
       "      <th>polarity</th>\n",
       "      <th>company</th>\n",
       "    </tr>\n",
       "  </thead>\n",
       "  <tbody>\n",
       "    <tr>\n",
       "      <th>0</th>\n",
       "      <td>السهم اغلاقه 32.20 السهم يعتبر فرصة جيد للشراء...</td>\n",
       "      <td>جيد</td>\n",
       "      <td>STC</td>\n",
       "    </tr>\n",
       "    <tr>\n",
       "      <th>1</th>\n",
       "      <td>السهم الان اخترق مستوى المقاومة 76.60 الذي بال...</td>\n",
       "      <td>جيد</td>\n",
       "      <td>STC</td>\n",
       "    </tr>\n",
       "    <tr>\n",
       "      <th>2</th>\n",
       "      <td>السهم انخفض لاختبار مستوى الدعم 57.98 الذي بال...</td>\n",
       "      <td>جيد</td>\n",
       "      <td>STC</td>\n",
       "    </tr>\n",
       "    <tr>\n",
       "      <th>3</th>\n",
       "      <td>يلاحظ بدء ارتفاع ملحوظ في احجام التداول مع تقا...</td>\n",
       "      <td>جيد</td>\n",
       "      <td>STC</td>\n",
       "    </tr>\n",
       "    <tr>\n",
       "      <th>4</th>\n",
       "      <td>سهم #stc يعود فوق مستوى 43 اهداف السهم 44-47-49</td>\n",
       "      <td>جيد</td>\n",
       "      <td>STC</td>\n",
       "    </tr>\n",
       "    <tr>\n",
       "      <th>...</th>\n",
       "      <td>...</td>\n",
       "      <td>...</td>\n",
       "      <td>...</td>\n",
       "    </tr>\n",
       "    <tr>\n",
       "      <th>204</th>\n",
       "      <td>\"بنك الرياض\": المعيار المحاسبي (9) أثر سلبا بـ...</td>\n",
       "      <td>سيء</td>\n",
       "      <td>بنك الرياض</td>\n",
       "    </tr>\n",
       "    <tr>\n",
       "      <th>205</th>\n",
       "      <td>بنك الرياض\" يتوقع انخفاض حقوق المساهمين مابين ...</td>\n",
       "      <td>سيء</td>\n",
       "      <td>بنك الرياض</td>\n",
       "    </tr>\n",
       "    <tr>\n",
       "      <th>206</th>\n",
       "      <td>انخفاض أرباح \"بنك الرياض\" إلى 4715 مليون ريال ...</td>\n",
       "      <td>سيء</td>\n",
       "      <td>بنك الرياض</td>\n",
       "    </tr>\n",
       "    <tr>\n",
       "      <th>207</th>\n",
       "      <td>انخفاض أرباح \"بنك الرياض\" إلى 3835 مليون ريال ...</td>\n",
       "      <td>سيء</td>\n",
       "      <td>بنك الرياض</td>\n",
       "    </tr>\n",
       "    <tr>\n",
       "      <th>208</th>\n",
       "      <td>انخفاض أرباح \"بنك الرياض\" إلى 2539 مليون ريال ...</td>\n",
       "      <td>سيء</td>\n",
       "      <td>بنك الرياض</td>\n",
       "    </tr>\n",
       "  </tbody>\n",
       "</table>\n",
       "<p>209 rows × 3 columns</p>\n",
       "</div>"
      ],
      "text/plain": [
       "                                                 tweet polarity     company\n",
       "0    السهم اغلاقه 32.20 السهم يعتبر فرصة جيد للشراء...      جيد         STC\n",
       "1    السهم الان اخترق مستوى المقاومة 76.60 الذي بال...      جيد         STC\n",
       "2    السهم انخفض لاختبار مستوى الدعم 57.98 الذي بال...      جيد         STC\n",
       "3    يلاحظ بدء ارتفاع ملحوظ في احجام التداول مع تقا...      جيد         STC\n",
       "4     سهم #stc يعود فوق مستوى 43 اهداف السهم 44-47-49       جيد         STC\n",
       "..                                                 ...      ...         ...\n",
       "204  \"بنك الرياض\": المعيار المحاسبي (9) أثر سلبا بـ...      سيء  بنك الرياض\n",
       "205  بنك الرياض\" يتوقع انخفاض حقوق المساهمين مابين ...      سيء  بنك الرياض\n",
       "206  انخفاض أرباح \"بنك الرياض\" إلى 4715 مليون ريال ...      سيء  بنك الرياض\n",
       "207  انخفاض أرباح \"بنك الرياض\" إلى 3835 مليون ريال ...      سيء  بنك الرياض\n",
       "208  انخفاض أرباح \"بنك الرياض\" إلى 2539 مليون ريال ...      سيء  بنك الرياض\n",
       "\n",
       "[209 rows x 3 columns]"
      ]
     },
     "execution_count": 7,
     "metadata": {},
     "output_type": "execute_result"
    }
   ],
   "source": [
    "df"
   ]
  },
  {
   "cell_type": "code",
   "execution_count": 8,
   "metadata": {},
   "outputs": [],
   "source": [
    "df['polarity'] = df['polarity'].apply(lambda x: x.strip())"
   ]
  },
  {
   "cell_type": "code",
   "execution_count": 9,
   "metadata": {},
   "outputs": [
    {
     "data": {
      "text/plain": [
       "جيد      142\n",
       "سيء       53\n",
       "محايد     14\n",
       "Name: polarity, dtype: int64"
      ]
     },
     "execution_count": 9,
     "metadata": {},
     "output_type": "execute_result"
    }
   ],
   "source": [
    "df['polarity'].value_counts()"
   ]
  },
  {
   "cell_type": "code",
   "execution_count": 10,
   "metadata": {},
   "outputs": [],
   "source": [
    "df['polarity'] = df['polarity'].map({'جيد': 1  , 'سيء': 0 , 'محايد':2})"
   ]
  },
  {
   "cell_type": "code",
   "execution_count": 11,
   "metadata": {},
   "outputs": [
    {
     "data": {
      "text/plain": [
       "1    142\n",
       "0     53\n",
       "2     14\n",
       "Name: polarity, dtype: int64"
      ]
     },
     "execution_count": 11,
     "metadata": {},
     "output_type": "execute_result"
    }
   ],
   "source": [
    "df['polarity'].value_counts()"
   ]
  },
  {
   "cell_type": "code",
   "execution_count": 12,
   "metadata": {},
   "outputs": [
    {
     "data": {
      "text/plain": [
       "0      السهم اغلاقه 32.20 السهم يعتبر فرصة جيد للشراء...\n",
       "1      السهم الان اخترق مستوى المقاومة 76.60 الذي بال...\n",
       "2      السهم انخفض لاختبار مستوى الدعم 57.98 الذي بال...\n",
       "3      يلاحظ بدء ارتفاع ملحوظ في احجام التداول مع تقا...\n",
       "4       سهم #stc يعود فوق مستوى 43 اهداف السهم 44-47-49 \n",
       "                             ...                        \n",
       "204    \"بنك الرياض\": المعيار المحاسبي (9) أثر سلبا بـ...\n",
       "205    بنك الرياض\" يتوقع انخفاض حقوق المساهمين مابين ...\n",
       "206    انخفاض أرباح \"بنك الرياض\" إلى 4715 مليون ريال ...\n",
       "207    انخفاض أرباح \"بنك الرياض\" إلى 3835 مليون ريال ...\n",
       "208    انخفاض أرباح \"بنك الرياض\" إلى 2539 مليون ريال ...\n",
       "Name: tweet, Length: 209, dtype: object"
      ]
     },
     "execution_count": 12,
     "metadata": {},
     "output_type": "execute_result"
    }
   ],
   "source": [
    "df['tweet']"
   ]
  },
  {
   "cell_type": "code",
   "execution_count": 13,
   "metadata": {
    "execution": {
     "iopub.execute_input": "2021-06-07T15:59:18.066249Z",
     "iopub.status.busy": "2021-06-07T15:59:18.065991Z",
     "iopub.status.idle": "2021-06-07T15:59:18.078171Z",
     "shell.execute_reply": "2021-06-07T15:59:18.077430Z",
     "shell.execute_reply.started": "2021-06-07T15:59:18.066213Z"
    }
   },
   "outputs": [],
   "source": [
    "def clean_text(text):\n",
    "    text = re.sub(r'[^ء-ي]',' ',text)\n",
    "    text = normalize.normalize_searchtext(text)\n",
    "    text = ' '.join([st.stem(word) for word in text.split()])# if word not in stop_words])\n",
    "    return text"
   ]
  },
  {
   "cell_type": "code",
   "execution_count": 14,
   "metadata": {
    "execution": {
     "iopub.execute_input": "2021-06-07T15:59:18.079866Z",
     "iopub.status.busy": "2021-06-07T15:59:18.079500Z",
     "iopub.status.idle": "2021-06-07T15:59:28.465382Z",
     "shell.execute_reply": "2021-06-07T15:59:28.464352Z",
     "shell.execute_reply.started": "2021-06-07T15:59:18.079825Z"
    }
   },
   "outputs": [],
   "source": [
    "df['cleaned_tweet'] = df['tweet'].apply(clean_text)"
   ]
  },
  {
   "cell_type": "code",
   "execution_count": 15,
   "metadata": {},
   "outputs": [
    {
     "data": {
      "text/html": [
       "<div>\n",
       "<style scoped>\n",
       "    .dataframe tbody tr th:only-of-type {\n",
       "        vertical-align: middle;\n",
       "    }\n",
       "\n",
       "    .dataframe tbody tr th {\n",
       "        vertical-align: top;\n",
       "    }\n",
       "\n",
       "    .dataframe thead th {\n",
       "        text-align: right;\n",
       "    }\n",
       "</style>\n",
       "<table border=\"1\" class=\"dataframe\">\n",
       "  <thead>\n",
       "    <tr style=\"text-align: right;\">\n",
       "      <th></th>\n",
       "      <th>tweet</th>\n",
       "      <th>polarity</th>\n",
       "      <th>company</th>\n",
       "      <th>cleaned_tweet</th>\n",
       "    </tr>\n",
       "  </thead>\n",
       "  <tbody>\n",
       "    <tr>\n",
       "      <th>0</th>\n",
       "      <td>السهم اغلاقه 32.20 السهم يعتبر فرصة جيد للشراء...</td>\n",
       "      <td>1</td>\n",
       "      <td>STC</td>\n",
       "      <td>سهم غلق سهم عبر فرص جيد شرء هدف رفع الي ثم الذ...</td>\n",
       "    </tr>\n",
       "    <tr>\n",
       "      <th>1</th>\n",
       "      <td>السهم الان اخترق مستوى المقاومة 76.60 الذي بال...</td>\n",
       "      <td>1</td>\n",
       "      <td>STC</td>\n",
       "      <td>سهم الن خرق ستي قام الذي ثبت عله هدف هدف سرع ث...</td>\n",
       "    </tr>\n",
       "    <tr>\n",
       "      <th>2</th>\n",
       "      <td>السهم انخفض لاختبار مستوى الدعم 57.98 الذي بال...</td>\n",
       "      <td>1</td>\n",
       "      <td>STC</td>\n",
       "      <td>سهم خفض خبر ستي دعم الذي ثبت عله بدء ردد الي س...</td>\n",
       "    </tr>\n",
       "    <tr>\n",
       "      <th>3</th>\n",
       "      <td>يلاحظ بدء ارتفاع ملحوظ في احجام التداول مع تقا...</td>\n",
       "      <td>1</td>\n",
       "      <td>STC</td>\n",
       "      <td>لحظ بدء رفع لحظ في حجم دول مع قطع يجب في ءشر س...</td>\n",
       "    </tr>\n",
       "    <tr>\n",
       "      <th>4</th>\n",
       "      <td>سهم #stc يعود فوق مستوى 43 اهداف السهم 44-47-49</td>\n",
       "      <td>1</td>\n",
       "      <td>STC</td>\n",
       "      <td>سهم يعد فوق ستي هدف سهم</td>\n",
       "    </tr>\n",
       "    <tr>\n",
       "      <th>...</th>\n",
       "      <td>...</td>\n",
       "      <td>...</td>\n",
       "      <td>...</td>\n",
       "      <td>...</td>\n",
       "    </tr>\n",
       "    <tr>\n",
       "      <th>204</th>\n",
       "      <td>\"بنك الرياض\": المعيار المحاسبي (9) أثر سلبا بـ...</td>\n",
       "      <td>0</td>\n",
       "      <td>بنك الرياض</td>\n",
       "      <td>بنك ريض عير حسب اثر سلب ب لير ريل علي حقق سهم</td>\n",
       "    </tr>\n",
       "    <tr>\n",
       "      <th>205</th>\n",
       "      <td>بنك الرياض\" يتوقع انخفاض حقوق المساهمين مابين ...</td>\n",
       "      <td>0</td>\n",
       "      <td>بنك الرياض</td>\n",
       "      <td>بنك ريض وقع خفض حقق سهم ماب و ملي ريل لءه اله ...</td>\n",
       "    </tr>\n",
       "    <tr>\n",
       "      <th>206</th>\n",
       "      <td>انخفاض أرباح \"بنك الرياض\" إلى 4715 مليون ريال ...</td>\n",
       "      <td>0</td>\n",
       "      <td>بنك الرياض</td>\n",
       "      <td>خفض ربح بنك ريض الي ملي ريل بنه عام ربح ربع رب...</td>\n",
       "    </tr>\n",
       "    <tr>\n",
       "      <th>207</th>\n",
       "      <td>انخفاض أرباح \"بنك الرياض\" إلى 3835 مليون ريال ...</td>\n",
       "      <td>0</td>\n",
       "      <td>بنك الرياض</td>\n",
       "      <td>خفض ربح بنك ريض الي ملي ريل بنه تسع شهر اول رب...</td>\n",
       "    </tr>\n",
       "    <tr>\n",
       "      <th>208</th>\n",
       "      <td>انخفاض أرباح \"بنك الرياض\" إلى 2539 مليون ريال ...</td>\n",
       "      <td>0</td>\n",
       "      <td>بنك الرياض</td>\n",
       "      <td>خفض ربح بنك ريض الي ملي ريل بنه نصف اول ربح رب...</td>\n",
       "    </tr>\n",
       "  </tbody>\n",
       "</table>\n",
       "<p>209 rows × 4 columns</p>\n",
       "</div>"
      ],
      "text/plain": [
       "                                                 tweet  polarity     company  \\\n",
       "0    السهم اغلاقه 32.20 السهم يعتبر فرصة جيد للشراء...         1         STC   \n",
       "1    السهم الان اخترق مستوى المقاومة 76.60 الذي بال...         1         STC   \n",
       "2    السهم انخفض لاختبار مستوى الدعم 57.98 الذي بال...         1         STC   \n",
       "3    يلاحظ بدء ارتفاع ملحوظ في احجام التداول مع تقا...         1         STC   \n",
       "4     سهم #stc يعود فوق مستوى 43 اهداف السهم 44-47-49          1         STC   \n",
       "..                                                 ...       ...         ...   \n",
       "204  \"بنك الرياض\": المعيار المحاسبي (9) أثر سلبا بـ...         0  بنك الرياض   \n",
       "205  بنك الرياض\" يتوقع انخفاض حقوق المساهمين مابين ...         0  بنك الرياض   \n",
       "206  انخفاض أرباح \"بنك الرياض\" إلى 4715 مليون ريال ...         0  بنك الرياض   \n",
       "207  انخفاض أرباح \"بنك الرياض\" إلى 3835 مليون ريال ...         0  بنك الرياض   \n",
       "208  انخفاض أرباح \"بنك الرياض\" إلى 2539 مليون ريال ...         0  بنك الرياض   \n",
       "\n",
       "                                         cleaned_tweet  \n",
       "0    سهم غلق سهم عبر فرص جيد شرء هدف رفع الي ثم الذ...  \n",
       "1    سهم الن خرق ستي قام الذي ثبت عله هدف هدف سرع ث...  \n",
       "2    سهم خفض خبر ستي دعم الذي ثبت عله بدء ردد الي س...  \n",
       "3    لحظ بدء رفع لحظ في حجم دول مع قطع يجب في ءشر س...  \n",
       "4                              سهم يعد فوق ستي هدف سهم  \n",
       "..                                                 ...  \n",
       "204      بنك ريض عير حسب اثر سلب ب لير ريل علي حقق سهم  \n",
       "205  بنك ريض وقع خفض حقق سهم ماب و ملي ريل لءه اله ...  \n",
       "206  خفض ربح بنك ريض الي ملي ريل بنه عام ربح ربع رب...  \n",
       "207  خفض ربح بنك ريض الي ملي ريل بنه تسع شهر اول رب...  \n",
       "208  خفض ربح بنك ريض الي ملي ريل بنه نصف اول ربح رب...  \n",
       "\n",
       "[209 rows x 4 columns]"
      ]
     },
     "execution_count": 15,
     "metadata": {},
     "output_type": "execute_result"
    }
   ],
   "source": [
    "df"
   ]
  },
  {
   "cell_type": "code",
   "execution_count": 16,
   "metadata": {},
   "outputs": [],
   "source": [
    "import arabic_reshaper\n",
    "from bidi.algorithm import get_display\n",
    "import matplotlib.pyplot as plt"
   ]
  },
  {
   "cell_type": "code",
   "execution_count": 17,
   "metadata": {},
   "outputs": [
    {
     "data": {
      "image/png": "[encoded data removed]",
      "text/plain": [
       "<Figure size 640x480 with 1 Axes>"
      ]
     },
     "metadata": {},
     "output_type": "display_data"
    }
   ],
   "source": [
    "neg = df[df['polarity'] == 0]\n",
    "neg.reset_index(inplace=True)\n",
    "neg_text = ''\n",
    "for row in neg['cleaned_tweet']:\n",
    "    neg_text = neg_text + ' ' + row\n",
    "neg_counts = Counter(neg_text.split())\n",
    "counter_neg = pd.DataFrame(neg_counts.most_common())[:30]\n",
    "lst = []\n",
    "for word in counter_neg[0]:\n",
    "    reshaped_text = arabic_reshaper.reshape(word)\n",
    "    artext = get_display(reshaped_text)\n",
    "    lst.append(artext)\n",
    "plt.xticks(rotation=70)\n",
    "plt.bar(lst,counter_neg[1])\n",
    "plt.show()"
   ]
  },
  {
   "cell_type": "code",
   "execution_count": 18,
   "metadata": {},
   "outputs": [
    {
     "data": {
      "image/png": "[encoded data removed]",
      "text/plain": [
       "<Figure size 640x480 with 1 Axes>"
      ]
     },
     "metadata": {},
     "output_type": "display_data"
    }
   ],
   "source": [
    "pos = df[df['polarity'] == 1]\n",
    "pos.reset_index(inplace=True)\n",
    "pos_text = ''\n",
    "for row in pos['cleaned_tweet']:\n",
    "    pos_text = pos_text + ' ' + row\n",
    "pos_counts = Counter(pos_text.split())\n",
    "counter_pos = pd.DataFrame(pos_counts.most_common())[:30]\n",
    "lst = []\n",
    "for word in counter_pos[0]:\n",
    "    reshaped_text = arabic_reshaper.reshape(word)\n",
    "    artext = get_display(reshaped_text)\n",
    "    lst.append(artext)\n",
    "plt.xticks(rotation=70)\n",
    "plt.bar(lst,counter_neg[1])\n",
    "plt.show()"
   ]
  },
  {
   "cell_type": "code",
   "execution_count": 19,
   "metadata": {},
   "outputs": [
    {
     "data": {
      "image/png": "[encoded data removed]",
      "text/plain": [
       "<Figure size 640x480 with 1 Axes>"
      ]
     },
     "metadata": {},
     "output_type": "display_data"
    }
   ],
   "source": [
    "neutral = df[df['polarity'] == 2]\n",
    "neutral.reset_index(inplace=True)\n",
    "neutral_text = ''\n",
    "for row in neutral['cleaned_tweet']:\n",
    "    neutral_text = neutral_text + ' ' + row\n",
    "neutral_counts = Counter(neutral_text.split())\n",
    "counter_neutral= pd.DataFrame(neutral_counts.most_common())[:30]\n",
    "lst = []\n",
    "for word in counter_neutral[0]:\n",
    "    reshaped_text = arabic_reshaper.reshape(word)\n",
    "    artext = get_display(reshaped_text)\n",
    "    lst.append(artext)\n",
    "plt.xticks(rotation=70)\n",
    "plt.bar(lst,counter_neg[1])\n",
    "plt.show()"
   ]
  },
  {
   "cell_type": "code",
   "execution_count": 20,
   "metadata": {
    "execution": {
     "iopub.execute_input": "2021-06-07T15:59:28.468784Z",
     "iopub.status.busy": "2021-06-07T15:59:28.468438Z",
     "iopub.status.idle": "2021-06-07T15:59:28.520121Z",
     "shell.execute_reply": "2021-06-07T15:59:28.519361Z",
     "shell.execute_reply.started": "2021-06-07T15:59:28.468747Z"
    }
   },
   "outputs": [],
   "source": [
    "X_train, X_test, y_train, y_test = train_test_split(df['cleaned_tweet'], df['polarity'], test_size=0.3,random_state=8)"
   ]
  },
  {
   "cell_type": "code",
   "execution_count": 21,
   "metadata": {
    "execution": {
     "iopub.execute_input": "2021-06-07T15:59:28.523640Z",
     "iopub.status.busy": "2021-06-07T15:59:28.523375Z",
     "iopub.status.idle": "2021-06-07T15:59:29.482926Z",
     "shell.execute_reply": "2021-06-07T15:59:29.482157Z",
     "shell.execute_reply.started": "2021-06-07T15:59:28.523613Z"
    }
   },
   "outputs": [],
   "source": [
    "tfidf = TfidfVectorizer(ngram_range=(1,1))\n",
    "X_train_tfidf = tfidf.fit_transform(X_train)\n",
    "X_test_tfidf = tfidf.transform(X_test)"
   ]
  },
  {
   "cell_type": "code",
   "execution_count": 22,
   "metadata": {
    "scrolled": true
   },
   "outputs": [
    {
     "name": "stdout",
     "output_type": "stream",
     "text": [
      "Precision: 0.993 / Recall: 0.993 / Accuracy: 0.993\n",
      "Precision: 0.889 / Recall: 0.889 / Accuracy: 0.889\n",
      "---------------------------------\n"
     ]
    }
   ],
   "source": [
    "rf = RandomForestClassifier(random_state=10) #classifier\n",
    "rf_tfidf = rf.fit(X_train_tfidf, y_train)\n",
    "\n",
    "train_pred = rf_tfidf.predict(X_train_tfidf)\n",
    "y_pred = rf_tfidf.predict(X_test_tfidf)\n",
    "\n",
    "tprecision = precision_score(y_train, train_pred,average='micro')\n",
    "trecall = recall_score(y_train, train_pred,average='micro')\n",
    "taccuracy = accuracy_score(y_train, train_pred)\n",
    "\n",
    "precision = precision_score(y_test, y_pred,average='micro')\n",
    "recall = recall_score(y_test, y_pred,average='micro')\n",
    "accuracy = accuracy_score(y_test, y_pred)\n",
    "\n",
    "print('Precision: {} / Recall: {} / Accuracy: {}'.format(round(tprecision, 3), round(trecall, 3), round(taccuracy, 3)))\n",
    "print('Precision: {} / Recall: {} / Accuracy: {}'.format(round(precision, 3), round(recall, 3), round(accuracy, 3)))\n",
    "print('---------------------------------')"
   ]
  },
  {
   "cell_type": "code",
   "execution_count": 23,
   "metadata": {
    "scrolled": true
   },
   "outputs": [
    {
     "data": {
      "text/plain": [
       "'المؤشر الان عند 10,711 بنزول 13 نقطة بضغط من الراجحي'"
      ]
     },
     "execution_count": 23,
     "metadata": {},
     "output_type": "execute_result"
    }
   ],
   "source": [
    "neg.iloc[10]['tweet']"
   ]
  },
  {
   "cell_type": "code",
   "execution_count": 24,
   "metadata": {
    "execution": {
     "iopub.execute_input": "2021-06-07T16:02:37.367347Z",
     "iopub.status.busy": "2021-06-07T16:02:37.367022Z",
     "iopub.status.idle": "2021-06-07T16:02:37.391274Z",
     "shell.execute_reply": "2021-06-07T16:02:37.390240Z",
     "shell.execute_reply.started": "2021-06-07T16:02:37.367320Z"
    }
   },
   "outputs": [
    {
     "name": "stdout",
     "output_type": "stream",
     "text": [
      "Positive\n"
     ]
    }
   ],
   "source": [
    "cleaned = clean_text(neg.iloc[7]['cleaned_tweet'])\n",
    "#cleaned = clean_text('دائماً وأبداً وقت الصفقات ووقت الفرص يخذل عملائه للأسف \\nبإذن الله على الجزيرة كابيتال ')\n",
    "trans = tfidf.transform([cleaned])\n",
    "x = rf_tfidf.predict(trans)[0]\n",
    "if x == 0:\n",
    "    print(\"Negative\")\n",
    "elif x == 1:\n",
    "    print(\"Positive\")\n",
    "else:\n",
    "    print('neutral')"
   ]
  },
  {
   "cell_type": "code",
   "execution_count": 25,
   "metadata": {},
   "outputs": [],
   "source": [
    "import pickle"
   ]
  },
  {
   "cell_type": "code",
   "execution_count": 27,
   "metadata": {},
   "outputs": [],
   "source": [
    "pickle.dump(rf_tfidf,open('sentiment.pkl','wb'))"
   ]
  },
  {
   "cell_type": "code",
   "execution_count": 29,
   "metadata": {},
   "outputs": [],
   "source": [
    "pickle.dump(tfidf,open('vectorizer.pkl','wb'))"
   ]
  },
  {
   "cell_type": "code",
   "execution_count": null,
   "metadata": {},
   "outputs": [],
   "source": []
  }
 ],
 "metadata": {
  "kernelspec": {
   "display_name": "Python 3 (ipykernel)",
   "language": "python",
   "name": "python3"
  },
  "language_info": {
   "codemirror_mode": {
    "name": "ipython",
    "version": 3
   },
   "file_extension": ".py",
   "mimetype": "text/x-python",
   "name": "python",
   "nbconvert_exporter": "python",
   "pygments_lexer": "ipython3",
   "version": "3.10.8"
  }
 },
 "nbformat": 4,
 "nbformat_minor": 4
}
